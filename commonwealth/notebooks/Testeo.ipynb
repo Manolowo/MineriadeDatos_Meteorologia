{
 "cells": [
  {
   "cell_type": "code",
   "execution_count": null,
   "id": "9523fd6c-de9a-4ba9-8fd7-e9f082de11f2",
   "metadata": {},
   "outputs": [],
   "source": []
  }
 ],
 "metadata": {
  "kernelspec": {
   "display_name": "Kedro (commonwealth)",
   "language": "python",
   "name": "kedro_commonwealth"
  },
  "language_info": {
   "codemirror_mode": {
    "name": "ipython",
    "version": 3
   },
   "file_extension": ".py",
   "mimetype": "text/x-python",
   "name": "python",
   "nbconvert_exporter": "python",
   "pygments_lexer": "ipython3",
   "version": "3.11.1"
  }
 },
 "nbformat": 4,
 "nbformat_minor": 5
}
